{
 "cells": [
  {
   "cell_type": "code",
   "execution_count": 2,
   "metadata": {},
   "outputs": [],
   "source": [
    "import numpy as np\n",
    "\n",
    "import torch\n",
    "import torch.nn as nn\n",
    "import torch.nn.functional as F\n",
    "import torch.optim as optim\n",
    "import torchvision\n",
    "import torchvision.transforms as transforms\n",
    "\n",
    "\n",
    "import matplotlib as mpl\n",
    "import matplotlib.pyplot as plt\n",
    "import seaborn as sns\n",
    "\n",
    "# For reproducible results\n",
    "SEED = 90\n",
    "torch.manual_seed(SEED)\n",
    "np.random.seed(SEED)"
   ]
  },
  {
   "cell_type": "code",
   "execution_count": 3,
   "metadata": {},
   "outputs": [],
   "source": [
    "transform = transforms.Compose(\n",
    "    [transforms.Resize((224,224)),\n",
    "     transforms.ToTensor(),\n",
    "     transforms.Normalize((0.5, 0.5, 0.5), (0.5, 0.5, 0.5))])\n",
    "\n",
    "batch_size = 8\n",
    "\n",
    "device = torch.device(\"cuda:0\" if torch.cuda.is_available() else \"cpu\")\n",
    "\n",
    "trainset_transformed = torchvision.datasets.CIFAR10(root='./data', train=True,download=False, transform=transform)\n",
    "trainloader_transformed = torch.utils.data.DataLoader(trainset_transformed, batch_size=batch_size,shuffle=True, num_workers=2)\n",
    "\n",
    "testset_transformed = torchvision.datasets.CIFAR10(root='./data', train=False, download=False, transform=transform)\n",
    "testloader_transformed = torch.utils.data.DataLoader(testset_transformed, batch_size=batch_size,shuffle=False, num_workers=2)\n",
    "\n",
    "classes = ('plane', 'car', 'bird', 'cat',\n",
    "           'deer', 'dog', 'frog', 'horse', 'ship', 'truck')"
   ]
  },
  {
   "cell_type": "code",
   "execution_count": 15,
   "metadata": {},
   "outputs": [
    {
     "name": "stderr",
     "output_type": "stream",
     "text": [
      "Clipping input data to the valid range for imshow with RGB data ([0..1] for floats or [0..255] for integers).\n"
     ]
    },
    {
     "data": {
      "image/png": "[encoded data removed]",
      "text/plain": [
       "<Figure size 640x480 with 1 Axes>"
      ]
     },
     "metadata": {},
     "output_type": "display_data"
    },
    {
     "name": "stdout",
     "output_type": "stream",
     "text": [
      "dog\n"
     ]
    }
   ],
   "source": [
    "def imshow(img):\n",
    "    img = img / 2 + 0.5     # unnormalize\n",
    "    npimg = img.numpy()\n",
    "    plt.imshow(np.transpose(npimg, (1, 2, 0)))\n",
    "    plt.show()\n",
    "\n",
    "\n",
    "# get some random training images\n",
    "dataiter = iter(trainloader_transformed)\n",
    "images, labels = next(dataiter)\n",
    "\n",
    "# show images\n",
    "imshow(torchvision.utils.make_grid(images[0]))\n",
    "# print labels\n",
    "print(classes[labels[0]])"
   ]
  },
  {
   "cell_type": "code",
   "execution_count": 9,
   "metadata": {},
   "outputs": [],
   "source": [
    "def train(num_epochs,trainset,device,optimizer,criterion,model):\n",
    "  training_losses = []\n",
    "  valid_losses = []\n",
    "  training_accuracies = []\n",
    "  total_size = len(trainset.dataset)\n",
    "  train_size = int(total_size * (1 - 0.1))\n",
    "  valid_size = total_size - train_size    \n",
    "  # Splitting the dataset into training and validation sets\n",
    "  train_dataset, valid_dataset = torch.utils.data.random_split(trainset.dataset, [train_size, valid_size])\n",
    "\n",
    "  train_loader = torch.utils.data.DataLoader(train_dataset, batch_size=trainset.batch_size, shuffle=True)\n",
    "  valid_loader = torch.utils.data.DataLoader(valid_dataset, batch_size=trainset.batch_size, shuffle=False)\n",
    "  \n",
    "  model.to(device)\n",
    "  \n",
    "  for epoch in range(num_epochs):\n",
    "    running_loss = 0.0\n",
    "    correct = 0\n",
    "    total = 0\n",
    "    model.train()\n",
    "    for i, data in enumerate(train_loader, 0):\n",
    "        inputs, labels = data\n",
    "        inputs = inputs.to(device)\n",
    "        labels = labels.to(device)\n",
    "        optimizer.zero_grad()\n",
    "        outputs = model(inputs)\n",
    "        loss = criterion(outputs, labels)\n",
    "        loss.backward()\n",
    "        optimizer.step()\n",
    "\n",
    "        running_loss += loss.item()\n",
    "\n",
    "        _, predicted = torch.max(outputs.data, 1)\n",
    "        total += labels.size(0)\n",
    "        correct += (predicted == labels).sum().item()\n",
    "\n",
    "    model.eval()\n",
    "    valid_loss = 0.0\n",
    "    with torch.no_grad():\n",
    "        for inputs, labels in valid_loader:\n",
    "            outputs = model(inputs)\n",
    "            loss = criterion(outputs, labels)\n",
    "            valid_loss += loss.item()\n",
    "    valid_loss /= len(valid_loader)\n",
    "    valid_losses.append(valid_loss)\n",
    "    \n",
    "    training_losses.append(running_loss / (i + 1))\n",
    "    training_accuracy = 100 * correct / total\n",
    "    training_accuracies.append(training_accuracy)\n",
    "    print(f'Epoch [{epoch + 1}/{num_epochs}]: Training Loss: {training_losses[-1]:.4f}, Training Accuracy: {training_accuracy:.2f}%')\n",
    "  return model, training_losses, training_accuracies, valid_losses\n",
    "\n",
    "def test(class_names,testset,model,device,criterion):\n",
    "    correct = 0\n",
    "    total = 0\n",
    "    correct_pred = {classname: 0 for classname in class_names}\n",
    "    total_pred = {classname: 0 for classname in class_names}\n",
    "    testing_losses = []\n",
    "    testing_accuracies = []\n",
    "    model.eval()\n",
    "    with torch.no_grad():\n",
    "        for data in testset:\n",
    "            images, labels = data\n",
    "            images = images.to(device)\n",
    "            labels = labels.to(device)\n",
    "            outputs = model(images)\n",
    "\n",
    "            loss = criterion(outputs, labels)\n",
    "            testing_losses.append(loss.item())\n",
    "            _, predicted = torch.max(outputs.data, 1)\n",
    "            total += labels.size(0)\n",
    "            correct += (predicted == labels).sum().item()\n",
    "\n",
    "            batch_accuracy = 100 * (predicted == labels).sum().item() / labels.size(0)\n",
    "            testing_accuracies.append(batch_accuracy)\n",
    "\n",
    "            for label, prediction in zip(labels, predicted):\n",
    "                if label == prediction:\n",
    "                    correct_pred[class_names[label]] += 1\n",
    "                total_pred[class_names[label]] += 1\n",
    "    \n",
    "    testing_accuracy = 100 * correct / total\n",
    "    testing_loss = sum(testing_losses) / len(testing_losses)\n",
    "    print(f'Accuracy of the network on the test images: {100 * correct // total} %\\nTesting Accuracy: {testing_accuracy:.2f}%, Testing Loss: {testing_loss:.4f}')\n",
    "\n",
    "    for classname, correct_count in correct_pred.items():\n",
    "        accuracy = 100 * float(correct_count) / total_pred[classname]\n",
    "        print(f'Accuracy for class: {classname:5s} is {accuracy:.1f} %')\n",
    "    return testing_loss, testing_accuracy, testing_losses, testing_accuracies\n"
   ]
  },
  {
   "cell_type": "code",
   "execution_count": 44,
   "metadata": {},
   "outputs": [],
   "source": [
    "class MyModel(nn.Module):\n",
    "    def __init__(self):\n",
    "        super().__init__()\n",
    "        self.conv1 = nn.Conv2d(3, 32, 3, padding=1)\n",
    "        self.relu1 = nn.ReLU()\n",
    "        self.conv2 = nn.Conv2d(32, 64, 3, padding=1)\n",
    "        self.relu2 = nn.ReLU()\n",
    "        self.pool1 = nn.MaxPool2d(2, 2)\n",
    "        self.conv3 = nn.Conv2d(64, 128, 3, padding=1)\n",
    "        self.relu3 = nn.ReLU()\n",
    "        self.pool2 = nn.MaxPool2d(2, 2)\n",
    "        self.fc1 = nn.Linear(128 * 28 * 28 , 512)\n",
    "        self.relu4 = nn.ReLU()\n",
    "        self.fc2 = nn.Linear(512, 10)\n",
    "\n",
    "    def forward(self, x):\n",
    "        x = self.pool1(self.relu1(self.conv1(x)))\n",
    "        x = self.pool1(self.relu2(self.conv2(x)))\n",
    "        x = self.pool2(self.relu3(self.conv3(x)))\n",
    "        x = x.view(x.size(0), -1)\n",
    "        x = self.relu4(self.fc1(x))\n",
    "        x = self.fc2(x)\n",
    "        return x"
   ]
  },
  {
   "cell_type": "markdown",
   "metadata": {},
   "source": [
    "# Baseline CNN"
   ]
  },
  {
   "cell_type": "markdown",
   "metadata": {},
   "source": [
    "### Baseline CNN Model1"
   ]
  },
  {
   "cell_type": "code",
   "execution_count": null,
   "metadata": {},
   "outputs": [],
   "source": [
    "myCNN = MyModel()\n",
    "\n",
    "criterion = nn.CrossEntropyLoss()\n",
    "optimizer = optim.SGD(myCNN.parameters(), lr=0.0001)\n",
    "num_epochs = 10\n",
    "myCNN, training_losses, training_accuracies = train(num_epochs=num_epochs,\n",
    "      trainset=trainloader_transformed,\n",
    "        device=device,\n",
    "      optimizer=optimizer,\n",
    "      criterion=criterion,\n",
    "      model=myCNN)\n",
    "testing_loss, testing_accuracy, testing_losses, testing_accuracies = test(class_names=classes,\n",
    "     testset=testloader_transformed,\n",
    "     model=myCNN,\n",
    "     device=device,\n",
    "     criterion = criterion)\n"
   ]
  },
  {
   "cell_type": "markdown",
   "metadata": {},
   "source": [
    "Epoch [1/10]: Training Loss: 2.2791, Training Accuracy: 21.90%\\\n",
    "Epoch [2/10]: Training Loss: 2.1539, Training Accuracy: 27.41%\\\n",
    "Epoch [3/10]: Training Loss: 1.9735, Training Accuracy: 31.74%\\\n",
    "Epoch [4/10]: Training Loss: 1.8424, Training Accuracy: 35.95%\\\n",
    "Epoch [5/10]: Training Loss: 1.7518, Training Accuracy: 38.63%\\\n",
    "Epoch [6/10]: Training Loss: 1.6914, Training Accuracy: 40.86%\\\n",
    "Epoch [7/10]: Training Loss: 1.6414, Training Accuracy: 42.59%\\\n",
    "Epoch [8/10]: Training Loss: 1.5956, Training Accuracy: 44.19%\\\n",
    "Epoch [9/10]: Training Loss: 1.5534, Training Accuracy: 45.71%\\\n",
    "Epoch [10/10]: Training Loss: 1.5173, Training Accuracy: 46.88%\\\n",
    "\\\n",
    "Accuracy of the network on the test images: 46 %\\\n",
    "\\\n",
    "Testing Accuracy: 46.87%, Testing Loss: 1.5144\\\n",
    "\\\n",
    "Accuracy for class: plane is 53.4 %\\\n",
    "Accuracy for class: car   is 66.0 %\\\n",
    "Accuracy for class: bird  is 42.7 %\\\n",
    "Accuracy for class: cat   is 28.1 %\\\n",
    "Accuracy for class: deer  is 39.8 %\\\n",
    "Accuracy for class: dog   is 31.0 %\\\n",
    "Accuracy for class: frog  is 61.3 %\\\n",
    "Accuracy for class: horse is 44.6 %\\\n",
    "Accuracy for class: ship  is 64.3 %\\\n",
    "Accuracy for class: truck is 37.5 %"
   ]
  },
  {
   "cell_type": "markdown",
   "metadata": {},
   "source": [
    "### Baseline CNN Model2"
   ]
  },
  {
   "cell_type": "code",
   "execution_count": null,
   "metadata": {},
   "outputs": [],
   "source": [
    "myCNN2 = MyModel()\n",
    "\n",
    "criterion = nn.CrossEntropyLoss()\n",
    "optimizer_2 = optim.Adam(myCNN2.parameters(), lr=0.0001)\n",
    "num_epochs = 10\n",
    "myCNN2, training_losses_2, training_accuracies_2 = train(num_epochs=num_epochs,\n",
    "      trainset=trainloader_transformed,\n",
    "        device=device,\n",
    "      optimizer=optimizer_2,\n",
    "      criterion=criterion,\n",
    "      model=myCNN2)\n",
    "testing_loss_2, testing_accuracy_2, testing_losses_2, testing_accuracies_2 = test(class_names=classes,\n",
    "     testset=testloader_transformed,\n",
    "     model=myCNN2,\n",
    "     device=device,\n",
    "     criterion = criterion)\n"
   ]
  },
  {
   "cell_type": "markdown",
   "metadata": {},
   "source": [
    "Epoch [1/10]: Training Loss: 1.3391, Training Accuracy: 51.84%\\\n",
    "Epoch [2/10]: Training Loss: 0.9674, Training Accuracy: 65.75%\\\n",
    "Epoch [3/10]: Training Loss: 0.7154, Training Accuracy: 74.87%\\\n",
    "Epoch [4/10]: Training Loss: 0.4577, Training Accuracy: 84.14%\\\n",
    "Epoch [5/10]: Training Loss: 0.2357, Training Accuracy: 92.22%\\\n",
    "Epoch [6/10]: Training Loss: 0.1150, Training Accuracy: 96.26%\\\n",
    "Epoch [7/10]: Training Loss: 0.0760, Training Accuracy: 97.39%\\\n",
    "Epoch [8/10]: Training Loss: 0.0585, Training Accuracy: 98.11%\\\n",
    "Epoch [9/10]: Training Loss: 0.0455, Training Accuracy: 98.43%\\\n",
    "Epoch [10/10]: Training Loss: 0.0425, Training Accuracy: 98.64%\\\n",
    "\\\n",
    "Accuracy of the network on the test images: 65 %\\\n",
    "\\\n",
    "Testing Accuracy: 65.80%, Testing Loss: 2.1967\\\n",
    "\\\n",
    "Accuracy for class: plane is 69.5 %\\\n",
    "Accuracy for class: car   is 78.8 %\\\n",
    "Accuracy for class: bird  is 49.4 %\\\n",
    "Accuracy for class: cat   is 49.3 %\\\n",
    "Accuracy for class: deer  is 60.4 %\\\n",
    "Accuracy for class: dog   is 57.1 %\\\n",
    "Accuracy for class: frog  is 71.5 %\\\n",
    "Accuracy for class: horse is 68.8 %\\\n",
    "Accuracy for class: ship  is 81.9 %\\\n",
    "Accuracy for class: truck is 71.3 %"
   ]
  },
  {
   "cell_type": "markdown",
   "metadata": {},
   "source": [
    "### Baseline CNN Model3"
   ]
  },
  {
   "cell_type": "code",
   "execution_count": null,
   "metadata": {},
   "outputs": [],
   "source": [
    "myCNN3 = MyModel()\n",
    "\n",
    "criterion = nn.CrossEntropyLoss()\n",
    "optimizer_2 = optim.RAdam(myCNN3.parameters(), lr=0.0001)\n",
    "num_epochs = 10\n",
    "myCNN3, training_losses_3, training_accuracies_3 = train(num_epochs=num_epochs,\n",
    "      trainset=trainloader_transformed,\n",
    "        device=device,\n",
    "      optimizer=optimizer_2,\n",
    "      criterion=criterion,\n",
    "      model=myCNN3)\n",
    "testing_loss_3, testing_accuracy_3, testing_losses_3, testing_accuracies_3 = test(class_names=classes,\n",
    "     testset=testloader_transformed,\n",
    "     model=myCNN3,\n",
    "     device=device,\n",
    "     criterion = criterion)"
   ]
  },
  {
   "cell_type": "markdown",
   "metadata": {},
   "source": [
    "Epoch [1/10]: Training Loss: 1.4144, Training Accuracy: 49.51%\\\n",
    "Epoch [2/10]: Training Loss: 0.9884, Training Accuracy: 65.08%\\\n",
    "Epoch [3/10]: Training Loss: 0.7015, Training Accuracy: 75.51%\\\n",
    "Epoch [4/10]: Training Loss: 0.4003, Training Accuracy: 86.27%\\\n",
    "Epoch [5/10]: Training Loss: 0.1763, Training Accuracy: 94.11%\\\n",
    "Epoch [6/10]: Training Loss: 0.0900, Training Accuracy: 97.11%\\\n",
    "Epoch [7/10]: Training Loss: 0.0632, Training Accuracy: 97.95%\\\n",
    "Epoch [8/10]: Training Loss: 0.0512, Training Accuracy: 98.32%\\\n",
    "Epoch [9/10]: Training Loss: 0.0430, Training Accuracy: 98.58%\\\n",
    "Epoch [10/10]: Training Loss: 0.0368, Training Accuracy: 98.84%\\\n",
    "\\\n",
    "Accuracy of the network on the test images: 64 %\\\n",
    "\\\n",
    "Testing Accuracy: 64.81%, Testing Loss: 2.2765\\\n",
    "\\\n",
    "Accuracy for class: plane is 72.1 %\\\n",
    "Accuracy for class: car   is 73.9 %\\\n",
    "Accuracy for class: bird  is 52.6 %\\\n",
    "Accuracy for class: cat   is 45.7 %\\\n",
    "Accuracy for class: deer  is 62.9 %\\\n",
    "Accuracy for class: dog   is 54.5 %\\\n",
    "Accuracy for class: frog  is 70.5 %\\\n",
    "Accuracy for class: horse is 68.4 %\\\n",
    "Accuracy for class: ship  is 73.9 %\\\n",
    "Accuracy for class: truck is 73.6 %"
   ]
  },
  {
   "cell_type": "markdown",
   "metadata": {},
   "source": [
    "# AlexNet"
   ]
  },
  {
   "cell_type": "markdown",
   "metadata": {},
   "source": [
    "### AlexNet Model1"
   ]
  },
  {
   "cell_type": "code",
   "execution_count": null,
   "metadata": {},
   "outputs": [],
   "source": [
    "alexnet_model = torchvision.models.alexnet(progress=True)\n",
    "alexnet_model.classifier[6] = nn.Linear(4096, len(classes))\n",
    "alexnet_model.to(device)\n",
    "criterion = nn.CrossEntropyLoss()\n",
    "optimizer = optim.SGD(alexnet_model.parameters(), lr=0.0001)\n",
    "num_epochs = 10  # Adjust the number of training epochs\n",
    "\n",
    "alexnet_model, training_losses, training_accuracies  = train(num_epochs=num_epochs,\n",
    "      trainset=trainloader_transformed,\n",
    "      device=device,\n",
    "      optimizer=optimizer,\n",
    "      criterion=criterion,\n",
    "      model=alexnet_model)\n",
    "testing_loss, testing_accuracy, testing_losses, testing_accuracies = test(class_names=classes,\n",
    "     testset=testloader_transformed,\n",
    "     model=alexnet_model,\n",
    "     device=device,\n",
    "     criterion = criterion)"
   ]
  },
  {
   "cell_type": "markdown",
   "metadata": {},
   "source": [
    "Epoch [1/10]: Training Loss: 2.3026, Training Accuracy: 10.13%\\\n",
    "Epoch [2/10]: Training Loss: 2.3026, Training Accuracy: 10.12%\\\n",
    "Epoch [3/10]: Training Loss: 2.3025, Training Accuracy: 10.19%\\\n",
    "Epoch [4/10]: Training Loss: 2.3025, Training Accuracy: 10.36%\\\n",
    "Epoch [5/10]: Training Loss: 2.3024, Training Accuracy: 10.65%\\\n",
    "Epoch [6/10]: Training Loss: 2.3024, Training Accuracy: 10.85%\\\n",
    "Epoch [7/10]: Training Loss: 2.3023, Training Accuracy: 11.24%\\\n",
    "Epoch [8/10]: Training Loss: 2.3023, Training Accuracy: 11.59%\\\n",
    "Epoch [9/10]: Training Loss: 2.3022, Training Accuracy: 11.85%\\\n",
    "Epoch [10/10]: Training Loss: 2.3021, Training Accuracy: 12.09%\\\n",
    "\\\n",
    "Accuracy of the network on the test images: 13 %\\\n",
    "\\\n",
    "Testing Accuracy: 13.75%, Testing Loss: 2.3020\\\n",
    "\\\n",
    "Accuracy for class: plane is 6.8 %\\\n",
    "Accuracy for class: car   is 7.9 %\\\n",
    "Accuracy for class: bird  is 0.0 %\\\n",
    "Accuracy for class: cat   is 0.0 %\\\n",
    "Accuracy for class: deer  is 0.0 %\\\n",
    "Accuracy for class: dog   is 97.2 %\\\n",
    "Accuracy for class: frog  is 0.0 %\\\n",
    "Accuracy for class: horse is 0.0 %\\\n",
    "Accuracy for class: ship  is 0.0 %\\\n",
    "Accuracy for class: truck is 25.6 % "
   ]
  },
  {
   "cell_type": "markdown",
   "metadata": {},
   "source": [
    "### AlexNet Model2"
   ]
  },
  {
   "cell_type": "code",
   "execution_count": null,
   "metadata": {},
   "outputs": [],
   "source": [
    "alexnet_model2 = torchvision.models.alexnet(progress=True)\n",
    "alexnet_model2.classifier[6] = nn.Linear(4096, len(classes))\n",
    "alexnet_model2.to(device)\n",
    "criterion_alx2 = nn.CrossEntropyLoss()\n",
    "optimizer_alx2 = optim.Adam(alexnet_model2.parameters(), lr=0.0001)\n",
    "num_epochs_alx2 = 10  \n",
    "alexnet_model3, training_losses, training_accuracies  = train(num_epochs=num_epochs_alx2,\n",
    "      trainset=trainloader_transformed,\n",
    "      device=device,\n",
    "      optimizer=optimizer_alx2,\n",
    "      criterion=criterion_alx2,\n",
    "      model=alexnet_model2)\n",
    "testing_loss, testing_accuracy, testing_losses, testing_accuracies = test(class_names=classes,\n",
    "     testset=testloader_transformed,\n",
    "     model=alexnet_model2,\n",
    "     device=device,\n",
    "     criterion = criterion_alx2)\n"
   ]
  },
  {
   "cell_type": "markdown",
   "metadata": {},
   "source": [
    "Epoch [1/10]: Training Loss: 1.4007, Training Accuracy: 48.90%\\\n",
    "Epoch [2/10]: Training Loss: 0.9209, Training Accuracy: 67.69%\\\n",
    "Epoch [3/10]: Training Loss: 0.7275, Training Accuracy: 74.61%\\\n",
    "Epoch [4/10]: Training Loss: 0.5995, Training Accuracy: 79.29%\\\n",
    "Epoch [5/10]: Training Loss: 0.5015, Training Accuracy: 82.68%\\\n",
    "Epoch [6/10]: Training Loss: 0.4233, Training Accuracy: 85.38%\\\n",
    "Epoch [7/10]: Training Loss: 0.3628, Training Accuracy: 87.39%\\\n",
    "Epoch [8/10]: Training Loss: 0.3097, Training Accuracy: 89.23%\\\n",
    "Epoch [9/10]: Training Loss: 0.2694, Training Accuracy: 90.79%\\\n",
    "Epoch [10/10]: Training Loss: 0.2414, Training Accuracy: 91.52%\\\n",
    "\\\n",
    "Accuracy of the network on the test images: 80 %\\\n",
    "\\\n",
    "Testing Accuracy: 80.94%, Testing Loss: 0.6654\\\n",
    "\\\n",
    "Accuracy for class: plane is 88.8 %\\\n",
    "Accuracy for class: car   is 91.5 %\\\n",
    "Accuracy for class: bird  is 72.6 %\\\n",
    "Accuracy for class: cat   is 56.3 %\\\n",
    "Accuracy for class: deer  is 83.8 %\\\n",
    "Accuracy for class: dog   is 68.0 %\\\n",
    "Accuracy for class: frog  is 91.7 %\\\n",
    "Accuracy for class: horse is 82.6 %\\\n",
    "Accuracy for class: ship  is 88.6 %\\\n",
    "Accuracy for class: truck is 85.5 %"
   ]
  },
  {
   "cell_type": "markdown",
   "metadata": {},
   "source": [
    "### AlexNet Model3"
   ]
  },
  {
   "cell_type": "code",
   "execution_count": null,
   "metadata": {},
   "outputs": [],
   "source": [
    "alexnet_model3 = torchvision.models.alexnet(weights= torchvision.models.AlexNet_Weights.IMAGENET1K_V1)\n",
    "alexnet_model3.classifier[6] = nn.Linear(4096, len(classes))\n",
    "alexnet_model3.to(device)\n",
    "criterion_alx3 = nn.CrossEntropyLoss()\n",
    "optimizer_alx3 = optim.RAdam(alexnet_model3.parameters(), lr=0.0001)\n",
    "num_epochs_alx3 = 10  # Adjust the number of training epochs\n",
    "alexnet_model3, training_losses, training_accuracies  = train(num_epochs=num_epochs_alx3,\n",
    "      trainset=trainloader_transformed,\n",
    "      device=device,\n",
    "      optimizer=optimizer_alx3,\n",
    "      criterion=criterion_alx3,\n",
    "      model=alexnet_model3)\n",
    "testing_loss, testing_accuracy, testing_losses, testing_accuracies = test(class_names=classes,\n",
    "     testset=testloader_transformed,\n",
    "     model=alexnet_model3,\n",
    "     device=device,\n",
    "     criterion = criterion_alx3)\n"
   ]
  },
  {
   "cell_type": "markdown",
   "metadata": {},
   "source": [
    "Epoch [1/10]: Training Loss: 0.6436, Training Accuracy: 77.72%\\\n",
    "Epoch [2/10]: Training Loss: 0.3954, Training Accuracy: 86.63%\\\n",
    "Epoch [3/10]: Training Loss: 0.2993, Training Accuracy: 89.81%\\\n",
    "Epoch [4/10]: Training Loss: 0.2357, Training Accuracy: 92.07%\\\n",
    "Epoch [5/10]: Training Loss: 0.1970, Training Accuracy: 93.37%\\\n",
    "Epoch [6/10]: Training Loss: 0.1718, Training Accuracy: 94.28%\\\n",
    "Epoch [7/10]: Training Loss: 0.1538, Training Accuracy: 95.08%\\\n",
    "Epoch [8/10]: Training Loss: 0.1436, Training Accuracy: 95.37%\\\n",
    "Epoch [9/10]: Training Loss: 0.1329, Training Accuracy: 95.71%\\\n",
    "Epoch [10/10]: Training Loss: 0.1257, Training Accuracy: 95.99%\\\n",
    "\\\n",
    "Accuracy of the network on the test images: 86 %\\\n",
    "\\\n",
    "Testing Accuracy: 86.02%, Testing Loss: 0.5766\\\n",
    "\\\n",
    "Accuracy for class: plane is 85.2 %\\\n",
    "Accuracy for class: car   is 83.0 %\\\n",
    "Accuracy for class: bird  is 81.9 %\\\n",
    "Accuracy for class: cat   is 71.1 %\\\n",
    "Accuracy for class: deer  is 93.1 %\\\n",
    "Accuracy for class: dog   is 80.8 %\\\n",
    "Accuracy for class: frog  is 94.2 %\\\n",
    "Accuracy for class: horse is 87.0 %\\\n",
    "Accuracy for class: ship  is 86.8 %\\\n",
    "Accuracy for class: truck is 97.1 %"
   ]
  },
  {
   "cell_type": "markdown",
   "metadata": {},
   "source": [
    "# VGGNet"
   ]
  },
  {
   "cell_type": "markdown",
   "metadata": {},
   "source": [
    "### Vgg11 Model1"
   ]
  },
  {
   "cell_type": "code",
   "execution_count": null,
   "metadata": {},
   "outputs": [],
   "source": [
    "vgg11_model1 = torchvision.models.vgg11(weights=torchvision.models.VGG11_Weights.IMAGENET1K_V1,progress=False)\n",
    "vgg11_model1.classifier[6] = nn.Linear(4096, len(classes))\n",
    "vgg11_model1.to(device)\n",
    "criterion_vgg11 = nn.CrossEntropyLoss()\n",
    "optimizer_vgg11_1 = optim.SGD(vgg11_model1.parameters(), lr=0.0001)\n",
    "num_epochs = 10  # Adjust the number of training epochs\n",
    "vgg11_model1, training_losses_vgg11_1 , training_accuracies_vgg11_1   = train(num_epochs=num_epochs, \n",
    "      trainset=trainloader_transformed,\n",
    "      device=device,\n",
    "      optimizer=optimizer_vgg11_1,\n",
    "      criterion=criterion_vgg11,\n",
    "      model=vgg11_model1)"
   ]
  },
  {
   "cell_type": "markdown",
   "metadata": {},
   "source": [
    "Epoch [1/10]: Training Loss: 1.0896, Training Accuracy: 61.45%\\\n",
    "Epoch [2/10]: Training Loss: 0.5696, Training Accuracy: 80.17%\\\n",
    "Epoch [3/10]: Training Loss: 0.4723, Training Accuracy: 83.50%\\\n",
    "Epoch [4/10]: Training Loss: 0.4126, Training Accuracy: 85.48%\\\n",
    "Epoch [5/10]: Training Loss: 0.3750, Training Accuracy: 86.75%\\\n",
    "Epoch [6/10]: Training Loss: 0.3487, Training Accuracy: 87.85%\\\n",
    "Epoch [7/10]: Training Loss: 0.3206, Training Accuracy: 88.71%\\\n",
    "Epoch [8/10]: Training Loss: 0.3023, Training Accuracy: 89.56%\\\n",
    "Epoch [9/10]: Training Loss: 0.2840, Training Accuracy: 90.05%\\\n",
    "Epoch [10/10]: Training Loss: 0.2691, Training Accuracy: 90.62%"
   ]
  },
  {
   "cell_type": "code",
   "execution_count": 10,
   "metadata": {},
   "outputs": [
    {
     "name": "stdout",
     "output_type": "stream",
     "text": [
      "Accuracy of the network on the test images: 90 %\n",
      "Testing Accuracy: 90.12%, Testing Loss: 0.2847\n",
      "Accuracy for class: plane is 92.5 %\n",
      "Accuracy for class: car   is 95.5 %\n",
      "Accuracy for class: bird  is 88.4 %\n",
      "Accuracy for class: cat   is 80.8 %\n",
      "Accuracy for class: deer  is 89.6 %\n",
      "Accuracy for class: dog   is 83.3 %\n",
      "Accuracy for class: frog  is 93.9 %\n",
      "Accuracy for class: horse is 91.3 %\n",
      "Accuracy for class: ship  is 93.9 %\n",
      "Accuracy for class: truck is 92.0 %\n"
     ]
    }
   ],
   "source": [
    "testing_loss_vgg11_1 , testing_accuracy_vgg11_1 , testing_losses_vgg11_1 , testing_accuracies_vgg11_1  = test(class_names=classes,\n",
    "     testset=testloader_transformed,\n",
    "     model=vgg11_model1,\n",
    "     device=device,\n",
    "     criterion = criterion_vgg11)"
   ]
  },
  {
   "cell_type": "markdown",
   "metadata": {},
   "source": [
    "### Vgg11 Model2"
   ]
  },
  {
   "cell_type": "code",
   "execution_count": null,
   "metadata": {},
   "outputs": [],
   "source": [
    "vgg11_model2 = torchvision.models.vgg11(weights=torchvision.models.VGG11_Weights.IMAGENET1K_V1,progress=False)\n",
    "vgg11_model2.classifier[6] = nn.Linear(4096, len(classes))\n",
    "vgg11_model2.to(device)\n",
    "criterion_vgg11 = nn.CrossEntropyLoss()\n",
    "optimizer_vgg11_2 = optim.Adam(vgg11_model2.parameters(), lr=0.0001)\n",
    "num_epochs = 10  # Adjust the number of training epochs\n",
    "vgg11_model2, training_losses_vgg11_2 , training_accuracies_vgg11_2   = train(num_epochs=num_epochs, \n",
    "      trainset=trainloader_transformed,\n",
    "      device=device,\n",
    "      optimizer=optimizer_vgg11_2,\n",
    "      criterion=criterion_vgg11,\n",
    "      model=vgg11_model2)\n",
    "testing_loss_vgg11_2 , testing_accuracy_vgg11_2 , testing_losses_vgg11_2 , testing_accuracies_vgg11_2  = test(class_names=classes,\n",
    "     testset=testloader_transformed,\n",
    "     model=vgg11_model2,\n",
    "     device=device,\n",
    "     criterion = criterion_vgg11)"
   ]
  },
  {
   "cell_type": "markdown",
   "metadata": {},
   "source": [
    "Epoch [1/10]: Training Loss: 0.5827, Training Accuracy: 80.13%\\\n",
    "Epoch [2/10]: Training Loss: 0.2969, Training Accuracy: 90.14%\\\n",
    "Epoch [3/10]: Training Loss: 0.1952, Training Accuracy: 93.53%\\\n",
    "Epoch [4/10]: Training Loss: 0.1445, Training Accuracy: 95.25%\\\n",
    "Epoch [5/10]: Training Loss: 0.1150, Training Accuracy: 96.29%\\\n",
    "Epoch [6/10]: Training Loss: 0.0969, Training Accuracy: 96.97%\\\n",
    "Epoch [7/10]: Training Loss: 0.0957, Training Accuracy: 97.12%\\\n",
    "Epoch [8/10]: Training Loss: 0.0893, Training Accuracy: 97.39%\\\n",
    "Epoch [9/10]: Training Loss: 0.0890, Training Accuracy: 97.45%\\\n",
    "Epoch [10/10]: Training Loss: 0.0806, Training Accuracy: 97.68%\\\n",
    "\\\n",
    "Accuracy of the network on the test images: 88 %\\\n",
    "\\\n",
    "Testing Accuracy: 88.58%, Testing Loss: 0.4920\\\n",
    "\\\n",
    "Accuracy for class: plane is 87.2 %\\\n",
    "Accuracy for class: car   is 94.4 %\\\n",
    "Accuracy for class: bird  is 80.3 %\\\n",
    "Accuracy for class: cat   is 81.3 %\\\n",
    "Accuracy for class: deer  is 85.7 %\\\n",
    "Accuracy for class: dog   is 88.1 %\\\n",
    "Accuracy for class: frog  is 91.2 %\\\n",
    "Accuracy for class: horse is 91.5 %\\\n",
    "Accuracy for class: ship  is 93.2 %\\\n",
    "Accuracy for class: truck is 92.9 %"
   ]
  },
  {
   "cell_type": "markdown",
   "metadata": {},
   "source": [
    "### Vgg11 Model3"
   ]
  },
  {
   "cell_type": "code",
   "execution_count": null,
   "metadata": {},
   "outputs": [],
   "source": [
    "vgg11_model3 = torchvision.models.vgg11(weights=torchvision.models.VGG11_Weights.IMAGENET1K_V1,progress=True)\n",
    "vgg11_model3.classifier[6] = nn.Linear(4096, len(classes))\n",
    "vgg11_model3.to(device)\n",
    "criterion_vgg11 = nn.CrossEntropyLoss()\n",
    "optimizer_vgg11_3 = optim.RAdam(vgg11_model3.parameters(), lr=0.0001)\n",
    "num_epochs = 10  # Adjust the number of training epochs\n",
    "vgg11_model3, training_losses_vgg11_3 , training_accuracies_vgg11_3   = train(num_epochs=num_epochs, \n",
    "      trainset=trainloader_transformed,\n",
    "      device=device,\n",
    "      optimizer=optimizer_vgg11_3,\n",
    "      criterion=criterion_vgg11,\n",
    "      model=vgg11_model3)\n",
    "testing_loss_vgg11_3 , testing_accuracy_vgg11_3 , testing_losses_vgg11_3 , testing_accuracies_vgg11_3  = test(class_names=classes,\n",
    "     testset=testloader_transformed,\n",
    "     model=vgg11_model3,\n",
    "     device=device,\n",
    "     criterion = criterion_vgg11)"
   ]
  },
  {
   "cell_type": "markdown",
   "metadata": {},
   "source": [
    "Epoch [1/10]: Training Loss: 0.5724, Training Accuracy: 80.55%\\\n",
    "Epoch [2/10]: Training Loss: 0.3129, Training Accuracy: 89.52%\\\n",
    "Epoch [3/10]: Training Loss: 0.2053, Training Accuracy: 93.31%\\\n",
    "Epoch [4/10]: Training Loss: 0.1500, Training Accuracy: 95.10%\\\n",
    "Epoch [5/10]: Training Loss: 0.1185, Training Accuracy: 96.27%\\\n",
    "Epoch [6/10]: Training Loss: 0.1023, Training Accuracy: 96.75%\\\n",
    "Epoch [7/10]: Training Loss: 0.0891, Training Accuracy: 97.21%\\\n",
    "Epoch [8/10]: Training Loss: 0.0881, Training Accuracy: 97.33%\\\n",
    "Epoch [9/10]: Training Loss: 0.0811, Training Accuracy: 97.56%\\\n",
    "Epoch [10/10]: Training Loss: 0.0813, Training Accuracy: 97.70%\\\n",
    "\\\n",
    "Accuracy of the network on the test images: 89 %\\\n",
    "\\\n",
    "Testing Accuracy: 89.30%, Testing Loss: 0.4568\\\n",
    "\\\n",
    "Accuracy for class: plane is 89.5 %\\\n",
    "Accuracy for class: car   is 97.4 %\\\n",
    "Accuracy for class: bird  is 89.4 %\\\n",
    "Accuracy for class: cat   is 82.6 %\\\n",
    "Accuracy for class: deer  is 86.4 %\\\n",
    "Accuracy for class: dog   is 85.9 %\\\n",
    "Accuracy for class: frog  is 90.4 %\\\n",
    "Accuracy for class: horse is 93.7 %\\\n",
    "Accuracy for class: ship  is 85.2 %\\\n",
    "Accuracy for class: truck is 92.5 %"
   ]
  },
  {
   "cell_type": "markdown",
   "metadata": {},
   "source": [
    "## ResNet "
   ]
  },
  {
   "cell_type": "markdown",
   "metadata": {},
   "source": [
    "### ResNet101 Model1"
   ]
  },
  {
   "cell_type": "code",
   "execution_count": null,
   "metadata": {},
   "outputs": [],
   "source": [
    "resnet_model101 = torchvision.models.resnet101(weights=torchvision.models.ResNet101_Weights.IMAGENET1K_V1)\n",
    "for param in resnet_model101.parameters():\n",
    "    param.requires_grad = False\n",
    "num_ftrs = resnet_model101.fc.in_features\n",
    "resnet_model101.fc = nn.Linear(num_ftrs, len(classes))\n",
    "criterion_res101 = nn.CrossEntropyLoss()\n",
    "optimizer_res101 = optim.SGD(resnet_model101.parameters(), lr=0.01)\n",
    "num_epochs = 10  # Adjust the number of training epochs\n",
    "resnet_model101, training_losses, training_accuracies = train(num_epochs=num_epochs, \n",
    "      trainset=trainloader_transformed,\n",
    "      device=device,\n",
    "      optimizer=optimizer_res101,\n",
    "      criterion=criterion_res101,\n",
    "      model=resnet_model101)\n"
   ]
  },
  {
   "cell_type": "markdown",
   "metadata": {},
   "source": [
    "Epoch [1/10]: Training Loss: 0.8257, Training Accuracy: 71.77%\\\n",
    "Epoch [2/10]: Training Loss: 0.7134, Training Accuracy: 75.86%\\\n",
    "Epoch [3/10]: Training Loss: 0.6907, Training Accuracy: 76.56%\\\n",
    "Epoch [4/10]: Training Loss: 0.6845, Training Accuracy: 77.00%\\\n",
    "Epoch [5/10]: Training Loss: 0.6663, Training Accuracy: 77.32%\\\n",
    "Epoch [6/10]: Training Loss: 0.6543, Training Accuracy: 77.76%\\\n",
    "Epoch [7/10]: Training Loss: 0.6504, Training Accuracy: 78.03%\\\n",
    "Epoch [8/10]: Training Loss: 0.6508, Training Accuracy: 78.04%\\\n",
    "Epoch [9/10]: Training Loss: 0.6358, Training Accuracy: 78.39%\\\n",
    "Epoch [10/10]: Training Loss: 0.6286, Training Accuracy: 78.64%"
   ]
  },
  {
   "cell_type": "code",
   "execution_count": 67,
   "metadata": {},
   "outputs": [
    {
     "name": "stdout",
     "output_type": "stream",
     "text": [
      "Accuracy of the network on the test images: 82 %\n",
      "Testing Accuracy: 82.03%, Testing Loss: 0.7657\n",
      "Accuracy for class: plane is 66.5 %\n",
      "Accuracy for class: car   is 83.3 %\n",
      "Accuracy for class: bird  is 84.4 %\n",
      "Accuracy for class: cat   is 67.8 %\n",
      "Accuracy for class: deer  is 77.4 %\n",
      "Accuracy for class: dog   is 80.3 %\n",
      "Accuracy for class: frog  is 92.0 %\n",
      "Accuracy for class: horse is 87.5 %\n",
      "Accuracy for class: ship  is 88.7 %\n",
      "Accuracy for class: truck is 92.4 %\n"
     ]
    }
   ],
   "source": [
    "testing_loss, testing_accuracy, testing_losses, testing_accuracies = test(class_names=classes,\n",
    "     testset=testloader_transformed,\n",
    "     model=resnet_model101,\n",
    "     device=device,\n",
    "    criterion = criterion_res101)"
   ]
  },
  {
   "cell_type": "code",
   "execution_count": null,
   "metadata": {},
   "outputs": [],
   "source": [
    "resnet_model101 = torchvision.models.resnet101(weights=torchvision.models.ResNet101_Weights.IMAGENET1K_V1)\n",
    "for param in resnet_model101.parameters():\n",
    "    param.requires_grad = False\n",
    "num_ftrs = resnet_model101.fc.in_features\n",
    "resnet_model101.fc = nn.Linear(num_ftrs, len(classes))\n",
    "criterion_res101 = nn.CrossEntropyLoss()\n",
    "optimizer_res101 = optim.SGD(resnet_model101.parameters(), lr=0.0001)\n",
    "num_epochs = 10  # Adjust the number of training epochs\n",
    "resnet_model101, training_losses, training_accuracies = train(num_epochs=num_epochs, \n",
    "      trainset=trainloader_transformed,\n",
    "      device=device,\n",
    "      optimizer=optimizer_res101,\n",
    "      criterion=criterion_res101,\n",
    "      model=resnet_model101)\n",
    "testing_loss, testing_accuracy, testing_losses, testing_accuracies = test(class_names=classes,\n",
    "     testset=testloader_transformed,\n",
    "     model=resnet_model101,\n",
    "     device=device,\n",
    "    criterion = criterion_res101)"
   ]
  },
  {
   "cell_type": "markdown",
   "metadata": {},
   "source": [
    "Epoch [1/10]: Training Loss: 1.9005, Training Accuracy: 50.24%\\\n",
    "Epoch [2/10]: Training Loss: 1.4369, Training Accuracy: 67.16%\\\n",
    "Epoch [3/10]: Training Loss: 1.2229, Training Accuracy: 69.78%\\\n",
    "Epoch [4/10]: Training Loss: 1.1044, Training Accuracy: 70.85%\\\n",
    "Epoch [5/10]: Training Loss: 1.0262, Training Accuracy: 71.65%\\\n",
    "Epoch [6/10]: Training Loss: 0.9748, Training Accuracy: 72.07%\\\n",
    "Epoch [7/10]: Training Loss: 0.9295, Training Accuracy: 73.14%\\\n",
    "Epoch [8/10]: Training Loss: 0.9056, Training Accuracy: 73.02%\\\n",
    "Epoch [9/10]: Training Loss: 0.8805, Training Accuracy: 73.49%\\\n",
    "Epoch [10/10]: Training Loss: 0.8541, Training Accuracy: 74.14%\\\n",
    "\\\n",
    "Accuracy of the network on the test images: 78 %\\\n",
    "\\\n",
    "Testing Accuracy: 78.20%, Testing Loss: 0.7048\\\n",
    "\\\n",
    "Accuracy for class: plane is 67.6 %\\\n",
    "Accuracy for class: car   is 84.5 %\\\n",
    "Accuracy for class: bird  is 69.6 %\\\n",
    "Accuracy for class: cat   is 62.8 %\\\n",
    "Accuracy for class: deer  is 73.1 %\\\n",
    "Accuracy for class: dog   is 80.4 %\\\n",
    "Accuracy for class: frog  is 85.2 %\\\n",
    "Accuracy for class: horse is 79.5 %\\\n",
    "Accuracy for class: ship  is 90.4 %\\\n",
    "Accuracy for class: truck is 88.9 %"
   ]
  },
  {
   "cell_type": "markdown",
   "metadata": {},
   "source": [
    "### ResNet101 Model2"
   ]
  },
  {
   "cell_type": "code",
   "execution_count": null,
   "metadata": {},
   "outputs": [],
   "source": [
    "resnet_model101_2 = torchvision.models.resnet101(weights=torchvision.models.ResNet101_Weights.IMAGENET1K_V1)\n",
    "for param in resnet_model101_2.parameters():\n",
    "    param.requires_grad = False\n",
    "num_ftrs = resnet_model101_2.fc.in_features\n",
    "resnet_model101_2.fc = nn.Linear(num_ftrs, len(classes))\n",
    "criterion_res101 = nn.CrossEntropyLoss()\n",
    "optimizer_res101_2 = optim.Adam(resnet_model101_2.parameters(), lr=0.01)\n",
    "num_epochs = 10  # Adjust the number of training epochs\n",
    "resnet_model101_2, training_losses, training_accuracies = train(num_epochs=num_epochs, \n",
    "      trainset=trainloader_transformed,\n",
    "      device=device,\n",
    "      optimizer=optimizer_res101_2,\n",
    "      criterion=criterion_res101,\n",
    "      model=resnet_model101_2)\n",
    "testing_loss , testing_accuracy, testing_losses , testing_accuracies  = test(class_names=classes,\n",
    "     testset=testloader_transformed,\n",
    "     model=resnet_model101_2,\n",
    "     device=device,\n",
    "    criterion = criterion_res101)\n"
   ]
  },
  {
   "cell_type": "markdown",
   "metadata": {},
   "source": [
    "Epoch [1/10]: Training Loss: 3.5715, Training Accuracy: 65.47%\\\n",
    "Epoch [2/10]: Training Loss: 3.9997, Training Accuracy: 69.51%\\\n",
    "Epoch [3/10]: Training Loss: 3.9039, Training Accuracy: 70.50%\\\n",
    "Epoch [4/10]: Training Loss: 3.8958, Training Accuracy: 71.45%\\\n",
    "Epoch [5/10]: Training Loss: 3.8091, Training Accuracy: 71.75%\\\n",
    "Epoch [6/10]: Training Loss: 3.8056, Training Accuracy: 72.36%\\\n",
    "Epoch [7/10]: Training Loss: 3.8267, Training Accuracy: 72.41%\\\n",
    "Epoch [8/10]: Training Loss: 3.8671, Training Accuracy: 72.69%\\\n",
    "Epoch [9/10]: Training Loss: 3.8078, Training Accuracy: 72.93%\\\n",
    "Epoch [10/10]: Training Loss: 3.8146, Training Accuracy: 73.06%\\\n",
    "\\\n",
    "Accuracy of the network on the test images: 79 %\\\n",
    "\\\n",
    "Testing Accuracy: 79.56%, Testing Loss: 3.1988\\\n",
    "\\\n",
    "Accuracy for class: plane is 77.0 %\\\n",
    "Accuracy for class: car   is 81.6 %\\\n",
    "Accuracy for class: bird  is 82.3 %\\\n",
    "Accuracy for class: cat   is 62.8 %\\\n",
    "Accuracy for class: deer  is 52.3 %\\\n",
    "Accuracy for class: dog   is 84.1 %\\\n",
    "Accuracy for class: frog  is 94.6 %\\\n",
    "Accuracy for class: horse is 77.8 %\\\n",
    "Accuracy for class: ship  is 91.5 %\\\n",
    "Accuracy for class: truck is 91.6 %"
   ]
  },
  {
   "cell_type": "code",
   "execution_count": null,
   "metadata": {},
   "outputs": [],
   "source": [
    "resnet_model101_2 = torchvision.models.resnet101(weights=torchvision.models.ResNet101_Weights.IMAGENET1K_V1)\n",
    "for param in resnet_model101_2.parameters():\n",
    "    param.requires_grad = False\n",
    "num_ftrs = resnet_model101_2.fc.in_features\n",
    "resnet_model101_2.fc = nn.Linear(num_ftrs, len(classes))\n",
    "criterion_res101 = nn.CrossEntropyLoss()\n",
    "optimizer_res101_2 = optim.Adam(resnet_model101_2.parameters(), lr=0.0001)\n",
    "num_epochs = 10  # Adjust the number of training epochs\n",
    "resnet_model101_2, training_losses, training_accuracies = train(num_epochs=num_epochs, \n",
    "      trainset=trainloader_transformed,\n",
    "      device=device,\n",
    "      optimizer=optimizer_res101_2,\n",
    "      criterion=criterion_res101,\n",
    "      model=resnet_model101_2)\n",
    "testing_loss , testing_accuracy, testing_losses , testing_accuracies  = test(class_names=classes,\n",
    "     testset=testloader_transformed,\n",
    "     model=resnet_model101_2,\n",
    "     device=device,\n",
    "    criterion = criterion_res101)\n"
   ]
  },
  {
   "cell_type": "markdown",
   "metadata": {},
   "source": [
    "Epoch [1/10]: Training Loss: 1.0185, Training Accuracy: 69.62%\\\n",
    "Epoch [2/10]: Training Loss: 0.7330, Training Accuracy: 75.71%\\\n",
    "Epoch [3/10]: Training Loss: 0.6932, Training Accuracy: 76.54%\\\n",
    "Epoch [4/10]: Training Loss: 0.6682, Training Accuracy: 77.26%\\\n",
    "Epoch [5/10]: Training Loss: 0.6576, Training Accuracy: 77.66%\\\n",
    "Epoch [6/10]: Training Loss: 0.6532, Training Accuracy: 77.69%\\\n",
    "Epoch [7/10]: Training Loss: 0.6438, Training Accuracy: 78.08%\\\n",
    "Epoch [8/10]: Training Loss: 0.6374, Training Accuracy: 78.48%\\\n",
    "Epoch [9/10]: Training Loss: 0.6332, Training Accuracy: 78.47%\\\n",
    "Epoch [10/10]: Training Loss: 0.6249, Training Accuracy: 78.87%\\\n",
    "\\\n",
    "Accuracy of the network on the test images: 82 %\\\n",
    "\\\n",
    "Testing Accuracy: 82.16%, Testing Loss: 0.6477\\\n",
    "\\\n",
    "Accuracy for class: plane is 70.5 %\\\n",
    "Accuracy for class: car   is 85.5 %\\\n",
    "Accuracy for class: bird  is 81.2 %\\\n",
    "Accuracy for class: cat   is 74.6 %\\\n",
    "Accuracy for class: deer  is 80.2 %\\\n",
    "Accuracy for class: dog   is 79.1 %\\\n",
    "Accuracy for class: frog  is 91.7 %\\\n",
    "Accuracy for class: horse is 81.4 %\\\n",
    "Accuracy for class: ship  is 86.0 %\\\n",
    "Accuracy for class: truck is 91.4 %"
   ]
  },
  {
   "cell_type": "markdown",
   "metadata": {},
   "source": [
    "### ResNet101 Model3"
   ]
  },
  {
   "cell_type": "code",
   "execution_count": null,
   "metadata": {},
   "outputs": [],
   "source": [
    "resnet_model101_3 = torchvision.models.resnet101(weights=torchvision.models.ResNet101_Weights.IMAGENET1K_V1)\n",
    "for param in resnet_model101_3.parameters():\n",
    "    param.requires_grad = False\n",
    "num_ftrs = resnet_model101_3.fc.in_features\n",
    "resnet_model101_3.fc = nn.Linear(num_ftrs, len(classes))\n",
    "criterion_res101 = nn.CrossEntropyLoss()\n",
    "optimizer_res101_3 = optim.RAdam(resnet_model101_3.parameters(), lr=0.01)\n",
    "num_epochs = 10  # Adjust the number of training epochs\n",
    "resnet_model101_3, training_losses_3, training_accuracies_3 = train(num_epochs=num_epochs, \n",
    "      trainset=trainloader_transformed,\n",
    "      device=device,\n",
    "      optimizer=optimizer_res101_3,\n",
    "      criterion=criterion_res101,\n",
    "      model=resnet_model101_3)\n",
    "testing_loss_3 , testing_accuracy_3, testing_losses_3 , testing_accuracies_3  = test(class_names=classes,\n",
    "     testset=testloader_transformed,\n",
    "     model=resnet_model101_3,\n",
    "     device=device,\n",
    "     criterion = criterion_res101)\n"
   ]
  },
  {
   "cell_type": "markdown",
   "metadata": {},
   "source": [
    "Epoch [1/10]: Training Loss: 3.0966, Training Accuracy: 64.20%\\\n",
    "Epoch [2/10]: Training Loss: 3.9928, Training Accuracy: 69.23%\\\n",
    "Epoch [3/10]: Training Loss: 3.8974, Training Accuracy: 70.57%\\\n",
    "Epoch [4/10]: Training Loss: 3.9832, Training Accuracy: 70.85%\\\n",
    "Epoch [5/10]: Training Loss: 3.8258, Training Accuracy: 71.83%\\\n",
    "Epoch [6/10]: Training Loss: 3.7904, Training Accuracy: 72.08%\\\n",
    "Epoch [7/10]: Training Loss: 3.9163, Training Accuracy: 72.32%\\\n",
    "Epoch [8/10]: Training Loss: 3.7348, Training Accuracy: 72.98%\\\n",
    "Epoch [9/10]: Training Loss: 3.6997, Training Accuracy: 73.31%\\\n",
    "Epoch [10/10]: Training Loss: 3.8766, Training Accuracy: 73.03%\\\n",
    "\\\n",
    "Accuracy of the network on the test images: 77 %\\\n",
    "\\\n",
    "Testing Accuracy: 77.41%, Testing Loss: 4.3976\\\n",
    "\\\n",
    "Accuracy for class: plane is 60.8 %\\\n",
    "Accuracy for class: car   is 87.9 %\\\n",
    "Accuracy for class: bird  is 77.2 %\\\n",
    "Accuracy for class: cat   is 87.8 %\\\n",
    "Accuracy for class: deer  is 81.5 %\\\n",
    "Accuracy for class: dog   is 46.6 %\\\n",
    "Accuracy for class: frog  is 72.7 %\\\n",
    "Accuracy for class: horse is 88.0 %\\\n",
    "Accuracy for class: ship  is 93.5 %\\\n",
    "Accuracy for class: truck is 78.1 %"
   ]
  },
  {
   "cell_type": "code",
   "execution_count": null,
   "metadata": {},
   "outputs": [],
   "source": [
    "resnet_model101_3 = torchvision.models.resnet101(weights=torchvision.models.ResNet101_Weights.IMAGENET1K_V1)\n",
    "for param in resnet_model101_3.parameters():\n",
    "    param.requires_grad = False\n",
    "num_ftrs = resnet_model101_3.fc.in_features\n",
    "resnet_model101_3.fc = nn.Linear(num_ftrs, len(classes))\n",
    "criterion_res101 = nn.CrossEntropyLoss()\n",
    "optimizer_res101_3 = optim.RAdam(resnet_model101_3.parameters(), lr=0.0001)\n",
    "num_epochs = 10  # Adjust the number of training epochs\n",
    "resnet_model101_3, training_losses_3, training_accuracies_3 = train(num_epochs=num_epochs, \n",
    "      trainset=trainloader_transformed,\n",
    "      device=device,\n",
    "      optimizer=optimizer_res101_3,\n",
    "      criterion=criterion_res101,\n",
    "      model=resnet_model101_3)\n",
    "testing_loss_3 , testing_accuracy_3, testing_losses_3 , testing_accuracies_3  = test(class_names=classes,\n",
    "     testset=testloader_transformed,\n",
    "     model=resnet_model101_3,\n",
    "     device=device,\n",
    "     criterion = criterion_res101)"
   ]
  },
  {
   "cell_type": "markdown",
   "metadata": {},
   "source": [
    "Epoch [1/10]: Training Loss: 1.1608, Training Accuracy: 65.88%\\\n",
    "Epoch [2/10]: Training Loss: 0.7452, Training Accuracy: 75.44%\\\n",
    "Epoch [3/10]: Training Loss: 0.6977, Training Accuracy: 76.43%\\\n",
    "Epoch [4/10]: Training Loss: 0.6708, Training Accuracy: 77.21%\\\n",
    "Epoch [5/10]: Training Loss: 0.6594, Training Accuracy: 77.60%\\\n",
    "Epoch [6/10]: Training Loss: 0.6546, Training Accuracy: 77.66%\\\n",
    "Epoch [7/10]: Training Loss: 0.6448, Training Accuracy: 78.04%\\\n",
    "Epoch [8/10]: Training Loss: 0.6383, Training Accuracy: 78.44%\\\n",
    "Epoch [9/10]: Training Loss: 0.6341, Training Accuracy: 78.44%\\\n",
    "Epoch [10/10]: Training Loss: 0.6257, Training Accuracy: 78.83%\\\n",
    "\\\n",
    "Accuracy of the network on the test images: 82 %\\\n",
    "\\\n",
    "Testing Accuracy: 82.15%, Testing Loss: 0.6478\\\n",
    "\\\n",
    "Accuracy for class: plane is 70.6 %\\\n",
    "Accuracy for class: car   is 85.5 %\\\n",
    "Accuracy for class: bird  is 81.2 %\\\n",
    "Accuracy for class: cat   is 74.7 %\\\n",
    "Accuracy for class: deer  is 80.1 %\\\n",
    "Accuracy for class: dog   is 79.1 %\\\n",
    "Accuracy for class: frog  is 91.6 %\\\n",
    "Accuracy for class: horse is 81.4 %\\\n",
    "Accuracy for class: ship  is 86.0 %\\\n",
    "Accuracy for class: truck is 91.3 %"
   ]
  },
  {
   "cell_type": "markdown",
   "metadata": {},
   "source": [
    "## ResNet 18"
   ]
  },
  {
   "cell_type": "markdown",
   "metadata": {},
   "source": [
    "### ResNet18 Model1"
   ]
  },
  {
   "cell_type": "code",
   "execution_count": 74,
   "metadata": {},
   "outputs": [
    {
     "name": "stdout",
     "output_type": "stream",
     "text": [
      "Epoch [1/10]: Training Loss: 0.9246, Training Accuracy: 68.75%\n",
      "Epoch [2/10]: Training Loss: 0.8242, Training Accuracy: 72.26%\n",
      "Epoch [3/10]: Training Loss: 0.8164, Training Accuracy: 72.56%\n",
      "Epoch [4/10]: Training Loss: 0.8019, Training Accuracy: 72.92%\n",
      "Epoch [5/10]: Training Loss: 0.7969, Training Accuracy: 73.23%\n",
      "Epoch [6/10]: Training Loss: 0.7975, Training Accuracy: 73.27%\n",
      "Epoch [7/10]: Training Loss: 0.7937, Training Accuracy: 73.35%\n",
      "Epoch [8/10]: Training Loss: 0.7939, Training Accuracy: 73.40%\n",
      "Epoch [9/10]: Training Loss: 0.7904, Training Accuracy: 73.46%\n",
      "Epoch [10/10]: Training Loss: 0.7904, Training Accuracy: 73.34%\n"
     ]
    }
   ],
   "source": [
    "resnet18_model = torchvision.models.resnet18(weights=torchvision.models.ResNet18_Weights.IMAGENET1K_V1)\n",
    "for param in resnet18_model.parameters():\n",
    "    param.requires_grad = False\n",
    "num_ftrs = resnet18_model.fc.in_features\n",
    "resnet18_model.fc = nn.Linear(num_ftrs, len(classes))\n",
    "criterion_res18 = nn.CrossEntropyLoss()\n",
    "optimizer_res18 = optim.SGD(resnet18_model.parameters(), lr=0.01)\n",
    "num_epochs = 10  \n",
    "resnet18_model, training_losses_res18, training_accuracies_res18 = train(num_epochs=num_epochs, \n",
    "      trainset=trainloader_transformed,\n",
    "      device=device,\n",
    "      optimizer=optimizer_res18,\n",
    "      criterion=criterion_res18,\n",
    "      model=resnet18_model)\n"
   ]
  },
  {
   "cell_type": "code",
   "execution_count": 75,
   "metadata": {},
   "outputs": [
    {
     "name": "stdout",
     "output_type": "stream",
     "text": [
      "Accuracy of the network on the test images: 79 %\n",
      "Testing Accuracy: 79.31%, Testing Loss: 0.6171\n",
      "Accuracy for class: plane is 73.3 %\n",
      "Accuracy for class: car   is 89.0 %\n",
      "Accuracy for class: bird  is 81.6 %\n",
      "Accuracy for class: cat   is 56.0 %\n",
      "Accuracy for class: deer  is 70.5 %\n",
      "Accuracy for class: dog   is 70.9 %\n",
      "Accuracy for class: frog  is 89.8 %\n",
      "Accuracy for class: horse is 86.3 %\n",
      "Accuracy for class: ship  is 88.1 %\n",
      "Accuracy for class: truck is 87.6 %\n"
     ]
    }
   ],
   "source": [
    "testing_loss_res18, testing_accuracy_res18, testing_losses_res18, testing_accuracies_res18 = test(class_names=classes,\n",
    "     testset=testloader_transformed,\n",
    "     model=resnet18_model\n",
    "     device=device,\n",
    "     criterion = criterion_res18)"
   ]
  },
  {
   "cell_type": "code",
   "execution_count": null,
   "metadata": {},
   "outputs": [],
   "source": [
    "resnet18_model = torchvision.models.resnet18(weights=torchvision.models.ResNet18_Weights.IMAGENET1K_V1)\n",
    "for param in resnet18_model.parameters():\n",
    "    param.requires_grad = False\n",
    "num_ftrs = resnet18_model.fc.in_features\n",
    "resnet18_model.fc = nn.Linear(num_ftrs, len(classes))\n",
    "criterion_res18 = nn.CrossEntropyLoss()\n",
    "optimizer_res18 = optim.SGD(resnet18_model.parameters(), lr=0.0001)\n",
    "num_epochs = 10  # Adjust the number of training epochs\n",
    "resnet18_model, training_losses_res18, training_accuracies_res18 = train(num_epochs=num_epochs, \n",
    "      trainset=trainloader_transformed,\n",
    "      device=device,\n",
    "      optimizer=optimizer_res18,\n",
    "      criterion=criterion_res18,\n",
    "      model=resnet18_model)\n",
    "testing_loss_res18, testing_accuracy_res18, testing_losses_res18, testing_accuracies_res18 = test(class_names=classes,\n",
    "     testset=testloader_transformed,\n",
    "     model=resnet18_model,\n",
    "     device=device,\n",
    "     criterion = criterion_res18)"
   ]
  },
  {
   "cell_type": "markdown",
   "metadata": {},
   "source": [
    "Epoch [1/10]: Training Loss: 1.9078, Training Accuracy: 38.91%\\\n",
    "Epoch [2/10]: Training Loss: 1.4792, Training Accuracy: 58.74%\\\n",
    "Epoch [3/10]: Training Loss: 1.2819, Training Accuracy: 63.89%\\\n",
    "Epoch [4/10]: Training Loss: 1.1670, Training Accuracy: 66.07%\\\n",
    "Epoch [5/10]: Training Loss: 1.0994, Training Accuracy: 67.25%\\\n",
    "Epoch [6/10]: Training Loss: 1.0449, Training Accuracy: 68.29%\\\n",
    "Epoch [7/10]: Training Loss: 1.0088, Training Accuracy: 68.92%\\\n",
    "Epoch [8/10]: Training Loss: 0.9796, Training Accuracy: 69.35%\\\n",
    "Epoch [9/10]: Training Loss: 0.9586, Training Accuracy: 69.77%\\\n",
    "Epoch [10/10]: Training Loss: 0.9367, Training Accuracy: 70.16%\\\n",
    "\\\n",
    "Accuracy of the network on the test images: 75 %\\\n",
    "\\\n",
    "Testing Accuracy: 75.78%, Testing Loss: 0.7566\\\n",
    "Accuracy for class: plane is 80.0 %\\\n",
    "Accuracy for class: car   is 89.3 %\\\n",
    "Accuracy for class: bird  is 61.5 %\\\n",
    "Accuracy for class: cat   is 63.7 %\\\n",
    "Accuracy for class: deer  is 65.2 %\\\n",
    "Accuracy for class: dog   is 71.2 %\\\n",
    "Accuracy for class: frog  is 83.2 %\\\n",
    "Accuracy for class: horse is 76.3 %\\\n",
    "Accuracy for class: ship  is 82.5 %\\\n",
    "Accuracy for class: truck is 84.9 %"
   ]
  },
  {
   "cell_type": "markdown",
   "metadata": {},
   "source": [
    "### ResNet18 Model2"
   ]
  },
  {
   "cell_type": "code",
   "execution_count": 92,
   "metadata": {},
   "outputs": [
    {
     "name": "stdout",
     "output_type": "stream",
     "text": [
      "Epoch [1/10]: Training Loss: 2.1459, Training Accuracy: 62.53%\n",
      "Epoch [2/10]: Training Loss: 2.3419, Training Accuracy: 65.25%\n",
      "Epoch [3/10]: Training Loss: 2.3788, Training Accuracy: 65.63%\n",
      "Epoch [4/10]: Training Loss: 2.3487, Training Accuracy: 66.08%\n",
      "Epoch [5/10]: Training Loss: 2.3623, Training Accuracy: 66.27%\n",
      "Epoch [6/10]: Training Loss: 2.3896, Training Accuracy: 66.36%\n",
      "Epoch [7/10]: Training Loss: 2.3618, Training Accuracy: 66.29%\n",
      "Epoch [8/10]: Training Loss: 2.3843, Training Accuracy: 66.59%\n",
      "Epoch [9/10]: Training Loss: 2.4049, Training Accuracy: 66.33%\n",
      "Epoch [10/10]: Training Loss: 2.3903, Training Accuracy: 66.63%\n"
     ]
    }
   ],
   "source": [
    "resnet18_model2 = torchvision.models.resnet18(weights=torchvision.models.ResNet18_Weights.IMAGENET1K_V1)\n",
    "for param in resnet18_model2.parameters():\n",
    "    param.requires_grad = False\n",
    "num_ftrs = resnet18_model2.fc.in_features\n",
    "resnet18_model2.fc = nn.Linear(num_ftrs, len(classes))\n",
    "criterion_res18_2 = nn.CrossEntropyLoss()\n",
    "optimizer_res18_2 = optim.Adam(resnet18_model2.parameters(), lr=0.01)\n",
    "num_epochs = 10  # Adjust the number of training epochs\n",
    "resnet18_model2, training_losses_res18_2, training_accuracies_res18_2 = train(num_epochs=num_epochs, \n",
    "      trainset=trainloader_transformed,\n",
    "      device=device,\n",
    "      optimizer=optimizer_res18_2,\n",
    "      criterion=criterion_res18_2,\n",
    "      model=resnet18_model2)\n"
   ]
  },
  {
   "cell_type": "code",
   "execution_count": 93,
   "metadata": {},
   "outputs": [
    {
     "name": "stdout",
     "output_type": "stream",
     "text": [
      "Accuracy of the network on the test images: 73 %\n",
      "Testing Accuracy: 73.55%, Testing Loss: 1.8264\n",
      "Accuracy for class: plane is 75.6 %\n",
      "Accuracy for class: car   is 92.2 %\n",
      "Accuracy for class: bird  is 72.0 %\n",
      "Accuracy for class: cat   is 47.4 %\n",
      "Accuracy for class: deer  is 52.4 %\n",
      "Accuracy for class: dog   is 74.2 %\n",
      "Accuracy for class: frog  is 94.5 %\n",
      "Accuracy for class: horse is 76.6 %\n",
      "Accuracy for class: ship  is 84.9 %\n",
      "Accuracy for class: truck is 65.7 %\n"
     ]
    }
   ],
   "source": [
    "testing_loss_res18_2, testing_accuracy_res18_2, testing_losses_res18_2, testing_accuracies_res18_2 = test(class_names=classes,\n",
    "     testset=testloader_transformed,\n",
    "     model=resnet18_model2,\n",
    "     device=device,\n",
    "     criterion = criterion_res18_2)"
   ]
  },
  {
   "cell_type": "code",
   "execution_count": null,
   "metadata": {},
   "outputs": [],
   "source": [
    "resnet18_model2 = torchvision.models.resnet18(weights=torchvision.models.ResNet18_Weights.IMAGENET1K_V1)\n",
    "for param in resnet18_model2.parameters():\n",
    "    param.requires_grad = False\n",
    "num_ftrs = resnet18_model2.fc.in_features\n",
    "resnet18_model2.fc = nn.Linear(num_ftrs, len(classes))\n",
    "criterion_res18_2 = nn.CrossEntropyLoss()\n",
    "optimizer_res18_2 = optim.Adam(resnet18_model2.parameters(), lr=0.0001)\n",
    "num_epochs = 10  # Adjust the number of training epochs\n",
    "resnet18_model2, training_losses_res18_2, training_accuracies_res18_2 = train(num_epochs=num_epochs, \n",
    "      trainset=trainloader_transformed,\n",
    "      device=device,\n",
    "      optimizer=optimizer_res18_2,\n",
    "      criterion=criterion_res18_2,\n",
    "      model=resnet18_model2)\n",
    "testing_loss_res18_2, testing_accuracy_res18_2, testing_losses_res18_2, testing_accuracies_res18_2 = test(class_names=classes,\n",
    "     testset=testloader_transformed,\n",
    "     model=resnet18_model2,\n",
    "     device=device,\n",
    "     criterion = criterion_res18_2)"
   ]
  },
  {
   "cell_type": "markdown",
   "metadata": {},
   "source": [
    "Epoch [1/10]: Training Loss: 1.2490, Training Accuracy: 61.54%\\\n",
    "Epoch [2/10]: Training Loss: 0.8856, Training Accuracy: 70.90%\\\n",
    "Epoch [3/10]: Training Loss: 0.8233, Training Accuracy: 72.37%\\\n",
    "Epoch [4/10]: Training Loss: 0.7962, Training Accuracy: 73.11%\\\n",
    "Epoch [5/10]: Training Loss: 0.7753, Training Accuracy: 73.92%\\\n",
    "Epoch [6/10]: Training Loss: 0.7734, Training Accuracy: 73.85%\\\n",
    "Epoch [7/10]: Training Loss: 0.7586, Training Accuracy: 74.21%\\\n",
    "Epoch [8/10]: Training Loss: 0.7599, Training Accuracy: 74.07%\\\n",
    "Epoch [9/10]: Training Loss: 0.7566, Training Accuracy: 74.31%\\\n",
    "Epoch [10/10]: Training Loss: 0.7473, Training Accuracy: 74.74%\\\n",
    "\\\n",
    "Accuracy of the network on the test images: 80 %\\\n",
    "\\\n",
    "Testing Accuracy: 80.00%, Testing Loss: 0.5902\\\n",
    "\\\n",
    "Accuracy for class: plane is 86.7 %\\\n",
    "Accuracy for class: car   is 86.4 %\\\n",
    "Accuracy for class: bird  is 71.8 %\\\n",
    "Accuracy for class: cat   is 68.8 %\\\n",
    "Accuracy for class: deer  is 71.0 %\\\n",
    "Accuracy for class: dog   is 75.0 %\\\n",
    "Accuracy for class: frog  is 85.2 %\\\n",
    "Accuracy for class: horse is 86.8 %\\\n",
    "Accuracy for class: ship  is 83.4 %\\\n",
    "Accuracy for class: truck is 84.9 %"
   ]
  },
  {
   "cell_type": "markdown",
   "metadata": {},
   "source": [
    "### ResNet18 Model3"
   ]
  },
  {
   "cell_type": "code",
   "execution_count": 96,
   "metadata": {},
   "outputs": [
    {
     "name": "stdout",
     "output_type": "stream",
     "text": [
      "Epoch [1/10]: Training Loss: 1.8953, Training Accuracy: 62.09%\n",
      "Epoch [2/10]: Training Loss: 2.3001, Training Accuracy: 64.96%\n",
      "Epoch [3/10]: Training Loss: 2.3514, Training Accuracy: 65.77%\n",
      "Epoch [4/10]: Training Loss: 2.4140, Training Accuracy: 65.92%\n",
      "Epoch [5/10]: Training Loss: 2.3909, Training Accuracy: 66.53%\n",
      "Epoch [6/10]: Training Loss: 2.3904, Training Accuracy: 66.02%\n",
      "Epoch [7/10]: Training Loss: 2.4286, Training Accuracy: 66.37%\n",
      "Epoch [8/10]: Training Loss: 2.4078, Training Accuracy: 66.36%\n",
      "Epoch [9/10]: Training Loss: 2.4286, Training Accuracy: 66.41%\n",
      "Epoch [10/10]: Training Loss: 2.3624, Training Accuracy: 66.61%\n"
     ]
    }
   ],
   "source": [
    "resnet18_model3 = torchvision.models.resnet18(weights=torchvision.models.ResNet18_Weights.IMAGENET1K_V1)\n",
    "for param in resnet18_model3.parameters():\n",
    "    param.requires_grad = False\n",
    "num_ftrs = resnet18_model3.fc.in_features\n",
    "resnet18_model3.fc = nn.Linear(num_ftrs, len(classes))\n",
    "criterion_res18_3 = nn.CrossEntropyLoss()\n",
    "optimizer_res18_3 = optim.RAdam(resnet18_model3.parameters(), lr=0.01)\n",
    "num_epochs = 10  # Adjust the number of training epochs\n",
    "resnet18_model3, training_losses_res18_3, training_accuracies_res18_3 = train(num_epochs=num_epochs, \n",
    "      trainset=trainloader_transformed,\n",
    "      device=device,\n",
    "      optimizer=optimizer_res18_3,\n",
    "      criterion=criterion_res18_3,\n",
    "      model=resnet18_model3)\n"
   ]
  },
  {
   "cell_type": "code",
   "execution_count": null,
   "metadata": {},
   "outputs": [],
   "source": [
    "testing_loss_res18_3, testing_accuracy_res18_3, testing_losses_res18_3, testing_accuracies_res18_3 = test(class_names=classes,\n",
    "     testset=testloader_transformed,\n",
    "     model=resnet18_model3,\n",
    "     device=device,\n",
    "     criterion = criterion_res18_3)"
   ]
  },
  {
   "cell_type": "markdown",
   "metadata": {},
   "source": [
    "Accuracy of the network on the test images: 75 %\\\n",
    "\\\n",
    "Testing Accuracy: 75.29%, Testing Loss: 1.6371\\\n",
    "\\\n",
    "Accuracy for class: plane is 70.6 %\\\n",
    "Accuracy for class: car   is 94.4 %\\\n",
    "Accuracy for class: bird  is 77.8 %\\\n",
    "Accuracy for class: cat   is 74.2 %\\\n",
    "Accuracy for class: deer  is 55.5 %\\\n",
    "Accuracy for class: dog   is 50.5 %\\\n",
    "Accuracy for class: frog  is 82.2 %\\\n",
    "Accuracy for class: horse is 85.6 %\\\n",
    "Accuracy for class: ship  is 88.2 %\\\n",
    "Accuracy for class: truck is 73.9 %"
   ]
  },
  {
   "cell_type": "code",
   "execution_count": null,
   "metadata": {},
   "outputs": [],
   "source": [
    "resnet18_model3 = torchvision.models.resnet18(weights=torchvision.models.ResNet18_Weights.IMAGENET1K_V1)\n",
    "for param in resnet18_model3.parameters():\n",
    "    param.requires_grad = False\n",
    "num_ftrs = resnet18_model3.fc.in_features\n",
    "resnet18_model3.fc = nn.Linear(num_ftrs, len(classes))\n",
    "criterion_res18_3 = nn.CrossEntropyLoss()\n",
    "optimizer_res18_3 = optim.RAdam(resnet18_model3.parameters(), lr=0.0001)\n",
    "num_epochs = 10  # Adjust the number of training epochs\n",
    "resnet18_model3, training_losses_res18_3, training_accuracies_res18_3 = train(num_epochs=num_epochs, \n",
    "      trainset=trainloader_transformed,\n",
    "      device=device,\n",
    "      optimizer=optimizer_res18_3,\n",
    "      criterion=criterion_res18_3,\n",
    "      model=resnet18_model3)\n",
    "testing_loss_res18_3, testing_accuracy_res18_3, testing_losses_res18_3, testing_accuracies_res18_3 = test(class_names=classes,\n",
    "     testset=testloader_transformed,\n",
    "     model=resnet18_model3,\n",
    "     device=device,\n",
    "     criterion = criterion_res18_3)"
   ]
  },
  {
   "cell_type": "markdown",
   "metadata": {},
   "source": [
    "Epoch [1/10]: Training Loss: 1.4142, Training Accuracy: 55.83%\\\n",
    "Epoch [2/10]: Training Loss: 0.9028, Training Accuracy: 70.55%\\\n",
    "Epoch [3/10]: Training Loss: 0.8296, Training Accuracy: 72.19%\\\n",
    "Epoch [4/10]: Training Loss: 0.7999, Training Accuracy: 73.12%\\\n",
    "Epoch [5/10]: Training Loss: 0.7790, Training Accuracy: 73.78%\\\n",
    "Epoch [6/10]: Training Loss: 0.7714, Training Accuracy: 73.87%\\\n",
    "Epoch [7/10]: Training Loss: 0.7625, Training Accuracy: 74.29%\\\n",
    "Epoch [8/10]: Training Loss: 0.7575, Training Accuracy: 74.32%\\\n",
    "Epoch [9/10]: Training Loss: 0.7568, Training Accuracy: 74.14%\\\n",
    "Epoch [10/10]: Training Loss: 0.7494, Training Accuracy: 74.63%\\\n",
    "\\\n",
    "Accuracy of the network on the test images: 79 %\\\n",
    "\\\n",
    "Testing Accuracy: 79.58%, Testing Loss: 0.5912\\\n",
    "\\\n",
    "Accuracy for class: plane is 82.9 %\\\n",
    "Accuracy for class: car   is 86.3 %\\\n",
    "Accuracy for class: bird  is 72.0 %\\\n",
    "Accuracy for class: cat   is 68.2 %\\\n",
    "Accuracy for class: deer  is 69.7 %\\\n",
    "Accuracy for class: dog   is 76.7 %\\\n",
    "Accuracy for class: frog  is 84.8 %\\\n",
    "Accuracy for class: horse is 82.7 %\\\n",
    "Accuracy for class: ship  is 87.1 %\\\n",
    "Accuracy for class: truck is 85.4 %"
   ]
  },
  {
   "cell_type": "markdown",
   "metadata": {},
   "source": [
    "# GoogLeNet"
   ]
  },
  {
   "cell_type": "markdown",
   "metadata": {},
   "source": [
    "### GoogLeNet Model1"
   ]
  },
  {
   "cell_type": "code",
   "execution_count": 77,
   "metadata": {},
   "outputs": [
    {
     "name": "stdout",
     "output_type": "stream",
     "text": [
      "Epoch [1/10]: Training Loss: 0.5075, Training Accuracy: 83.41%\n",
      "Epoch [2/10]: Training Loss: 0.2556, Training Accuracy: 91.58%\n",
      "Epoch [3/10]: Training Loss: 0.1773, Training Accuracy: 94.00%\n",
      "Epoch [4/10]: Training Loss: 0.1278, Training Accuracy: 95.77%\n",
      "Epoch [5/10]: Training Loss: 0.1006, Training Accuracy: 96.67%\n",
      "Epoch [6/10]: Training Loss: 0.0749, Training Accuracy: 97.50%\n",
      "Epoch [7/10]: Training Loss: 0.0639, Training Accuracy: 97.91%\n",
      "Epoch [8/10]: Training Loss: 0.0502, Training Accuracy: 98.35%\n",
      "Epoch [9/10]: Training Loss: 0.0487, Training Accuracy: 98.39%\n",
      "Epoch [10/10]: Training Loss: 0.0397, Training Accuracy: 98.71%\n"
     ]
    }
   ],
   "source": [
    "googlenet_model = torchvision.models.googlenet(weights = torchvision.models.GoogLeNet_Weights.IMAGENET1K_V1)\n",
    "num_ftrs = googlenet_model.fc.in_features\n",
    "googlenet_model.fc = nn.Linear(num_ftrs, len(classes))\n",
    "\n",
    "criterion_ggl = nn.CrossEntropyLoss()\n",
    "optimizer_ggl = optim.SGD(googlenet_model.parameters(), lr=0.01)\n",
    "num_epochs_ggl = 10  \n",
    "googlenet_model, training_losses_ggl, training_accuracies_ggl  = train(num_epochs=num_epochs_ggl, \n",
    "      trainset=trainloader_transformed,\n",
    "      device=device,\n",
    "      optimizer=optimizer_ggl,\n",
    "      criterion=criterion_ggl,\n",
    "      model=googlenet_model)\n"
   ]
  },
  {
   "cell_type": "code",
   "execution_count": 79,
   "metadata": {},
   "outputs": [
    {
     "name": "stdout",
     "output_type": "stream",
     "text": [
      "Accuracy of the network on the test images: 94 %\n",
      "Testing Accuracy: 94.80%, Testing Loss: 0.1806\n",
      "Accuracy for class: plane is 95.2 %\n",
      "Accuracy for class: car   is 96.2 %\n",
      "Accuracy for class: bird  is 93.2 %\n",
      "Accuracy for class: cat   is 88.4 %\n",
      "Accuracy for class: deer  is 96.2 %\n",
      "Accuracy for class: dog   is 89.9 %\n",
      "Accuracy for class: frog  is 98.5 %\n",
      "Accuracy for class: horse is 96.1 %\n",
      "Accuracy for class: ship  is 96.6 %\n",
      "Accuracy for class: truck is 97.7 %\n"
     ]
    }
   ],
   "source": [
    "testing_loss_ggl, testing_accuracy_ggl, testing_losses_ggl, testing_accuracies_ggl = test(class_names=classes,\n",
    "     testset=testloader_transformed,\n",
    "     model=googlenet_model,\n",
    "     device=device,\n",
    "     criterion = criterion_ggl)"
   ]
  },
  {
   "cell_type": "code",
   "execution_count": null,
   "metadata": {},
   "outputs": [],
   "source": [
    "googlenet_model = torchvision.models.googlenet(weights = torchvision.models.GoogLeNet_Weights.IMAGENET1K_V1)\n",
    "num_ftrs = googlenet_model.fc.in_features\n",
    "googlenet_model.fc = nn.Linear(num_ftrs, len(classes))\n",
    "\n",
    "criterion_ggl = nn.CrossEntropyLoss()\n",
    "optimizer_ggl = optim.SGD(googlenet_model.parameters(), lr=0.0001)\n",
    "num_epochs_ggl = 10  \n",
    "googlenet_model, training_losses_ggl, training_accuracies_ggl  = train(num_epochs=num_epochs_ggl, \n",
    "      trainset=trainloader_transformed,\n",
    "      device=device,\n",
    "      optimizer=optimizer_ggl,\n",
    "      criterion=criterion_ggl,\n",
    "      model=googlenet_model)\n",
    "testing_loss_ggl, testing_accuracy_ggl, testing_losses_ggl, testing_accuracies_ggl = test(class_names=classes,\n",
    "     testset=testloader_transformed,\n",
    "     model=googlenet_model,\n",
    "     device=device,\n",
    "     criterion = criterion_ggl)"
   ]
  },
  {
   "cell_type": "markdown",
   "metadata": {},
   "source": [
    "Epoch [1/10]: Training Loss: 2.0867, Training Accuracy: 34.53%\\\n",
    "Epoch [2/10]: Training Loss: 1.5747, Training Accuracy: 61.70%\\\n",
    "Epoch [3/10]: Training Loss: 1.1859, Training Accuracy: 69.57%\\\n",
    "Epoch [4/10]: Training Loss: 0.9536, Training Accuracy: 73.91%\\\n",
    "Epoch [5/10]: Training Loss: 0.8165, Training Accuracy: 76.40%\\\n",
    "Epoch [6/10]: Training Loss: 0.7241, Training Accuracy: 78.45%\\\n",
    "Epoch [7/10]: Training Loss: 0.6524, Training Accuracy: 80.36%\\\n",
    "Epoch [8/10]: Training Loss: 0.6027, Training Accuracy: 81.54%\\\n",
    "Epoch [9/10]: Training Loss: 0.5642, Training Accuracy: 82.44%\\\n",
    "Epoch [10/10]: Training Loss: 0.5314, Training Accuracy: 83.57%\\\n",
    "\\\n",
    "Accuracy of the network on the test images: 90 %\\\n",
    "\\\n",
    "Testing Accuracy: 90.34%, Testing Loss: 0.3139\\\n",
    "\\\n",
    "Accuracy for class: plane is 91.5 %\\\n",
    "Accuracy for class: car   is 97.0 %\\\n",
    "Accuracy for class: bird  is 86.2 %\\\n",
    "Accuracy for class: cat   is 78.4 %\\\n",
    "Accuracy for class: deer  is 87.2 %\\\n",
    "Accuracy for class: dog   is 86.6 %\\\n",
    "Accuracy for class: frog  is 93.9 %\\\n",
    "Accuracy for class: horse is 93.1 %\\\n",
    "Accuracy for class: ship  is 96.0 %\\\n",
    "Accuracy for class: truck is 93.5 %"
   ]
  },
  {
   "cell_type": "markdown",
   "metadata": {},
   "source": [
    "### GoogLeNet Model2"
   ]
  },
  {
   "cell_type": "code",
   "execution_count": null,
   "metadata": {},
   "outputs": [],
   "source": [
    "googlenet_model2 = torchvision.models.googlenet(weights = torchvision.models.GoogLeNet_Weights.IMAGENET1K_V1)\n",
    "num_ftrs = googlenet_model2.fc.in_features\n",
    "googlenet_model2.fc = nn.Linear(num_ftrs, len(classes))\n",
    "criterion_ggl2 = nn.CrossEntropyLoss()\n",
    "optimizer_ggl2 = optim.Adam(googlenet_model2.parameters(), lr=0.01)\n",
    "num_epochs_ggl2 = 10  \n",
    "googlenet_model2, training_losses_ggl2, training_accuracies_ggl2  = train(num_epochs=num_epochs_ggl2, \n",
    "      trainset=trainloader_transformed,\n",
    "      device=device,\n",
    "      optimizer=optimizer_ggl2,\n",
    "      criterion=criterion_ggl2,\n",
    "      model=googlenet_model2)\n",
    "testing_loss_ggl2, testing_accuracy_ggl2, testing_losses_ggl2, testing_accuracies_ggl2 = test(class_names=classes,\n",
    "     testset=testloader_transformed,\n",
    "     model=googlenet_model2,\n",
    "     device=device,\n",
    "     criterion = criterion_ggl2)\n"
   ]
  },
  {
   "cell_type": "markdown",
   "metadata": {},
   "source": [
    "Epoch [1/10]: Training Loss: 1.7716, Training Accuracy: 34.15%\\\n",
    "Epoch [2/10]: Training Loss: 1.3122, Training Accuracy: 52.80%\\\n",
    "Epoch [3/10]: Training Loss: 1.0826, Training Accuracy: 61.73%\\\n",
    "Epoch [4/10]: Training Loss: 0.9443, Training Accuracy: 66.88%\\\n",
    "Epoch [5/10]: Training Loss: 0.8482, Training Accuracy: 70.58%\\\n",
    "Epoch [6/10]: Training Loss: 0.7759, Training Accuracy: 73.17%\\\n",
    "Epoch [7/10]: Training Loss: 0.7158, Training Accuracy: 75.18%\\\n",
    "Epoch [8/10]: Training Loss: 0.6744, Training Accuracy: 76.82%\\\n",
    "Epoch [9/10]: Training Loss: 0.6334, Training Accuracy: 78.08%\\\n",
    "Epoch [10/10]: Training Loss: 0.5962, Training Accuracy: 79.49%\\\n",
    "\\\n",
    "Accuracy of the network on the test images: 79 %\\\n",
    "\\\n",
    "Testing Accuracy: 79.05%, Testing Loss: 0.6254\\\n",
    "\\\n",
    "Accuracy for class: plane is 84.2 %\\\n",
    "Accuracy for class: car   is 82.1 %\\\n",
    "Accuracy for class: bird  is 63.3 %\\\n",
    "Accuracy for class: cat   is 51.3 %\\\n",
    "Accuracy for class: deer  is 79.6 %\\\n",
    "Accuracy for class: dog   is 79.6 %\\\n",
    "Accuracy for class: frog  is 83.2 %\\\n",
    "Accuracy for class: horse is 87.4 %\\\n",
    "Accuracy for class: ship  is 85.2 %\\\n",
    "Accuracy for class: truck is 94.6 %"
   ]
  },
  {
   "cell_type": "code",
   "execution_count": null,
   "metadata": {},
   "outputs": [],
   "source": [
    "googlenet_model2 = torchvision.models.googlenet(weights = torchvision.models.GoogLeNet_Weights.IMAGENET1K_V1)\n",
    "num_ftrs = googlenet_model2.fc.in_features\n",
    "googlenet_model2.fc = nn.Linear(num_ftrs, len(classes))\n",
    "criterion_ggl2 = nn.CrossEntropyLoss()\n",
    "optimizer_ggl2 = optim.Adam(googlenet_model2.parameters(), lr=0.0001)\n",
    "num_epochs_ggl2 = 10  \n",
    "googlenet_model2, training_losses_ggl2, training_accuracies_ggl2  = train(num_epochs=num_epochs_ggl2, \n",
    "      trainset=trainloader_transformed,\n",
    "      device=device,\n",
    "      optimizer=optimizer_ggl2,\n",
    "      criterion=criterion_ggl2,\n",
    "      model=googlenet_model2)\n",
    "testing_loss_ggl2, testing_accuracy_ggl2, testing_losses_ggl2, testing_accuracies_ggl2 = test(class_names=classes,\n",
    "     testset=testloader_transformed,\n",
    "     model=googlenet_model2,\n",
    "     device=device,\n",
    "     criterion = criterion_ggl2)\n"
   ]
  },
  {
   "cell_type": "markdown",
   "metadata": {},
   "source": [
    "Epoch [1/10]: Training Loss: 0.4693, Training Accuracy: 85.04%\\\n",
    "Epoch [2/10]: Training Loss: 0.2419, Training Accuracy: 92.01%\\\n",
    "Epoch [3/10]: Training Loss: 0.1744, Training Accuracy: 94.17%\\\n",
    "Epoch [4/10]: Training Loss: 0.1317, Training Accuracy: 95.69%\\\n",
    "Epoch [5/10]: Training Loss: 0.1079, Training Accuracy: 96.41%\\\n",
    "Epoch [6/10]: Training Loss: 0.0946, Training Accuracy: 96.80%\\\n",
    "Epoch [7/10]: Training Loss: 0.0804, Training Accuracy: 97.40%\\\n",
    "Epoch [8/10]: Training Loss: 0.0714, Training Accuracy: 97.61%\\\n",
    "Epoch [9/10]: Training Loss: 0.0622, Training Accuracy: 97.89%\\\n",
    "Epoch [10/10]: Training Loss: 0.0602, Training Accuracy: 98.04%\\\n",
    "\\\n",
    "Accuracy of the network on the test images: 93 %\\\n",
    "\\\n",
    "Testing Accuracy: 93.68%, Testing Loss: 0.2226\\\n",
    "\\\n",
    "Accuracy for class: plane is 93.2 %\\\n",
    "Accuracy for class: car   is 91.5 %\\\n",
    "Accuracy for class: bird  is 93.1 %\\\n",
    "Accuracy for class: cat   is 87.2 %\\\n",
    "Accuracy for class: deer  is 97.0 %\\\n",
    "Accuracy for class: dog   is 87.9 %\\\n",
    "Accuracy for class: frog  is 95.9 %\\\n",
    "Accuracy for class: horse is 95.7 %\\\n",
    "Accuracy for class: ship  is 97.2 %\\\n",
    "Accuracy for class: truck is 98.1 %"
   ]
  },
  {
   "cell_type": "markdown",
   "metadata": {},
   "source": [
    "### GoogLeNet Model3"
   ]
  },
  {
   "cell_type": "code",
   "execution_count": 113,
   "metadata": {},
   "outputs": [
    {
     "name": "stdout",
     "output_type": "stream",
     "text": [
      "Epoch [1/10]: Training Loss: 1.5378, Training Accuracy: 44.40%\n",
      "Epoch [2/10]: Training Loss: 1.0835, Training Accuracy: 62.19%\n",
      "Epoch [3/10]: Training Loss: 0.8748, Training Accuracy: 69.68%\n",
      "Epoch [4/10]: Training Loss: 0.7553, Training Accuracy: 73.84%\n",
      "Epoch [5/10]: Training Loss: 0.6688, Training Accuracy: 77.01%\n",
      "Epoch [6/10]: Training Loss: 0.6053, Training Accuracy: 79.08%\n",
      "Epoch [7/10]: Training Loss: 0.5450, Training Accuracy: 81.14%\n",
      "Epoch [8/10]: Training Loss: 0.5044, Training Accuracy: 82.65%\n",
      "Epoch [9/10]: Training Loss: 0.4647, Training Accuracy: 84.09%\n",
      "Epoch [10/10]: Training Loss: 0.4308, Training Accuracy: 85.04%\n",
      "Accuracy of the network on the test images: 81 %\n",
      "Testing Accuracy: 81.25%, Testing Loss: 0.6076\n",
      "Accuracy for class: plane is 90.5 %\n",
      "Accuracy for class: car   is 92.9 %\n",
      "Accuracy for class: bird  is 69.4 %\n",
      "Accuracy for class: cat   is 66.0 %\n",
      "Accuracy for class: deer  is 79.3 %\n",
      "Accuracy for class: dog   is 58.3 %\n",
      "Accuracy for class: frog  is 89.7 %\n",
      "Accuracy for class: horse is 84.7 %\n",
      "Accuracy for class: ship  is 90.5 %\n",
      "Accuracy for class: truck is 91.2 %\n"
     ]
    }
   ],
   "source": [
    "googlenet_model3 = torchvision.models.googlenet(weights = torchvision.models.GoogLeNet_Weights.IMAGENET1K_V1)\n",
    "num_ftrs = googlenet_model3.fc.in_features\n",
    "googlenet_model3.fc = nn.Linear(num_ftrs, len(classes))\n",
    "criterion_ggl3 = nn.CrossEntropyLoss()\n",
    "optimizer_ggl3 = optim.RAdam(googlenet_model3.parameters(), lr=0.01)\n",
    "num_epochs_ggl3 = 10  \n",
    "googlenet_model3, training_losses_ggl3, training_accuracies_ggl3  = train(num_epochs=num_epochs_ggl3, \n",
    "      trainset=trainloader_transformed,\n",
    "      device=device,\n",
    "      optimizer=optimizer_ggl3,\n",
    "      criterion=criterion_ggl3,\n",
    "      model=googlenet_model3)\n",
    "testing_loss_ggl3, testing_accuracy_ggl3, testing_losses_ggl3, testing_accuracies_ggl3 = test(class_names=classes,\n",
    "     testset=testloader_transformed,\n",
    "     model=googlenet_model3,\n",
    "     device=device,\n",
    "     criterion = criterion_ggl3)\n"
   ]
  },
  {
   "cell_type": "code",
   "execution_count": null,
   "metadata": {},
   "outputs": [],
   "source": [
    "googlenet_model3 = torchvision.models.googlenet(weights = torchvision.models.GoogLeNet_Weights.IMAGENET1K_V1)\n",
    "num_ftrs = googlenet_model3.fc.in_features\n",
    "googlenet_model3.fc = nn.Linear(num_ftrs, len(classes))\n",
    "criterion_ggl3 = nn.CrossEntropyLoss()\n",
    "optimizer_ggl3 = optim.RAdam(googlenet_model3.parameters(), lr=0.0001)\n",
    "num_epochs_ggl3 = 10  \n",
    "googlenet_model3, training_losses_ggl3, training_accuracies_ggl3  = train(num_epochs=num_epochs_ggl3, \n",
    "      trainset=trainloader_transformed,\n",
    "      device=device,\n",
    "      optimizer=optimizer_ggl3,\n",
    "      criterion=criterion_ggl3,\n",
    "      model=googlenet_model3)\n",
    "testing_loss_ggl3, testing_accuracy_ggl3, testing_losses_ggl3, testing_accuracies_ggl3 = test(class_names=classes,\n",
    "     testset=testloader_transformed,\n",
    "     model=googlenet_model3,\n",
    "     device=device,\n",
    "     criterion = criterion_ggl3)\n"
   ]
  },
  {
   "cell_type": "markdown",
   "metadata": {},
   "source": [
    "Epoch [1/10]: Training Loss: 0.5526, Training Accuracy: 82.72%\\\n",
    "Epoch [2/10]: Training Loss: 0.2524, Training Accuracy: 91.82%\\\n",
    "Epoch [3/10]: Training Loss: 0.1771, Training Accuracy: 94.09%\\\n",
    "Epoch [4/10]: Training Loss: 0.1386, Training Accuracy: 95.30%\\\n",
    "Epoch [5/10]: Training Loss: 0.1082, Training Accuracy: 96.32%\\\n",
    "Epoch [6/10]: Training Loss: 0.0946, Training Accuracy: 96.77%\\\n",
    "Epoch [7/10]: Training Loss: 0.0813, Training Accuracy: 97.26%\\\n",
    "Epoch [8/10]: Training Loss: 0.0714, Training Accuracy: 97.62%\\\n",
    "Epoch [9/10]: Training Loss: 0.0652, Training Accuracy: 97.77%\\\n",
    "Epoch [10/10]: Training Loss: 0.0627, Training Accuracy: 97.89%\\\n",
    "\\\n",
    "Accuracy of the network on the test images: 94 %\\\n",
    "\\\n",
    "Testing Accuracy: 94.35%, Testing Loss: 0.1933\\\n",
    "\\\n",
    "Accuracy for class: plane is 92.8 %\\\n",
    "Accuracy for class: car   is 97.8 %\\\n",
    "Accuracy for class: bird  is 94.5 %\\\n",
    "Accuracy for class: cat   is 88.0 %\\\n",
    "Accuracy for class: deer  is 95.9 %\\\n",
    "Accuracy for class: dog   is 90.6 %\\\n",
    "Accuracy for class: frog  is 95.1 %\\\n",
    "Accuracy for class: horse is 96.0 %\\\n",
    "Accuracy for class: ship  is 97.5 %\\\n",
    "Accuracy for class: truck is 95.3 %"
   ]
  }
 ],
 "metadata": {
  "kernelspec": {
   "display_name": "Python 3",
   "language": "python",
   "name": "python3"
  },
  "language_info": {
   "codemirror_mode": {
    "name": "ipython",
    "version": 3
   },
   "file_extension": ".py",
   "mimetype": "text/x-python",
   "name": "python",
   "nbconvert_exporter": "python",
   "pygments_lexer": "ipython3",
   "version": "3.9.17"
  },
  "orig_nbformat": 4
 },
 "nbformat": 4,
 "nbformat_minor": 2
}
